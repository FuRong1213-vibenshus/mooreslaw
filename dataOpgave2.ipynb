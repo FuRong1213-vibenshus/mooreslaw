{
 "cells": [
  {
   "cell_type": "markdown",
   "id": "a08f1ace-cbe2-4473-b533-4fa77e9d8313",
   "metadata": {},
   "source": [
    "    Denne opgave er en del af NumPy-tutorials fra deres officielle hjemmeside. Du skal læse dokumentet igennem og lave så mange af øvelserne som muligt. Til sidst kan du finde alle svarene her:\n",
    "https://numpy.org/numpy-tutorials/content/mooreslaw-tutorial.html\n",
    "    \n",
    "# Bestemmelse af Moore’s lov med rigtige data i NumPy\n",
    "Gordon Moore fremsatte en empirisk forudsigelse om, at antallet af transistorer på en computerchip ville fordobles hvert andet år. Denne forudsigelse blev kendt som Moore’s lov. Gordon Moore havde oprindeligt kun forventet, at denne empiriske sammenhæng ville gælde fra 1965 til 1975 [[1](https://en.wikipedia.org/wiki/Moore%27s_law),[2](https://spectrum.ieee.org/computing/hardware/gordon-moore-the-man-whose-name-means-progress)],men semiconductor producenter var i stand til at følge Moore’s lov helt frem til 2015.\n",
    "\n",
    "I denne opgave skal du:\n",
    "\n",
    "- Læs og analysere rigtige data for antal transistor i semiconductor over tid,\n",
    "- Sammenligne Moores forudsigelse med de rigtige data,\n",
    "- Visualisere udviklingen grafisk ved hjælp af NumPy og Matplotlib,\n",
    "\n",
    "## Hvad du skal bruge\n",
    "Du vil anvende disse NumPy- og Matplotlib-funktioner:\n",
    "\n",
    "- `np.loadtxt`: indlæser tekst i et NumPy-array\n",
    "- `np.log`: tager den naturlige logaritme af alle elementer i et NumPy-array\n",
    "- `np.exp`: tager den eksponentielle funktion af alle elementer i et NumPy-array\n",
    "- `lambda`: en minimal funktionsdefinition til at lave en model-funktion\n",
    "- `plt.semilogy`: plotter x-y-data med lineær x-akse og logaritmisk y-akse\n",
    "- `plt.plot`: plotter x-y-data med lineære akser\n",
    "- `array-slicing`\n",
    "- `boolean array indexing`\n",
    "- `np.block`: kombiner arrays til 2D-arrays\n",
    "- `np.newaxis`: ændrer et 1D-array til en række- eller kolonnevektor\n",
    "- `np.savez` og `np.savetxt`: gemmer arrays i henholdsvis komprimeret NumPy-format og som tekst"
   ]
  },
  {
   "cell_type": "markdown",
   "id": "9e03c9af-ca97-46e3-ae60-dc8cec25cfb1",
   "metadata": {},
   "source": [
    "## Del 1: læs data\n",
    "\n",
    "I repo findes en CSV fil, \"Moores_Law.csv\" hentet fra [transistor count](http://www.transistorcount.com/#2020s)\n",
    "\n",
    "1. Brug kommandoen `!head Moores_Law.csv` til at se de første linjer af CSV-filen. Hvad er overskrifterne for kolonnerne?\n",
    "2. Indlæs CSV-filen. Du behøver ikke de kolonner, der angiver Processor, Designer, MOSprocess eller Area. Du skal kun bruge den anden og tredje kolonne, nemlig **Transistors** og **Date**. Dernæst skal du indlæse disse to kolonner i et NumPy-array `data` ved hjælp af `np.genfromtxt`. De ekstra indstillinger nedenfor sørger for, at data kommer i det ønskede format:\n",
    "\n",
    "- delimiter=',': angiver komma ',' som separator i CSV-filen\n",
    "- usecols=[1,2]: importerer den anden og tredje kolonne fra CSV-filen\n",
    "- skip_header=1: springer den første række over, fordi den er en overskriftsrække (header)"
   ]
  },
  {
   "cell_type": "code",
   "execution_count": 10,
   "id": "d4e06f63-9068-40cd-acb1-8c411dc794f3",
   "metadata": {},
   "outputs": [
    {
     "name": "stdout",
     "output_type": "stream",
     "text": [
      "Processor,Transistors,Year,Designer,Process,Area mm2,Trans./mm2\n",
      "MOS Technology 6502,3510,1975,MOS Tech.,\"8,000 nm\",21,167\n",
      "RCA 1802,5000,1974,RCA,\"5,000 nm\",27,185\n",
      "Intel 4004,2300,1971,Intel,\"10,000 nm\",12,192\n",
      "Intel 8080,4500,1974,Intel,\"6,000 nm\",20,225\n",
      "Intel 8008,3500,1972,Intel,\"10,000 nm\",14,250\n",
      "Motorola 6800,4100,1974,Motorola,\"6,000 nm\",16,256\n",
      "Intel 8085,6500,1976,Intel,\"3,000 nm\",20,325\n",
      "Motorola 6809,9000,1978,Motorola,\"5,000 nm\",21,429\n",
      "Zilog Z80,8500,1976,Zilog,\"4,000 nm\",18,472\n"
     ]
    }
   ],
   "source": [
    "!head Moores_Law.csv"
   ]
  },
  {
   "cell_type": "code",
   "execution_count": 15,
   "id": "30f65bc6-a919-4596-af12-f30450885cc2",
   "metadata": {},
   "outputs": [],
   "source": [
    "import numpy as np\n",
    "data = np.genfromtxt('Moores_Law.csv', delimiter=',', usecols=[1,2], skip_header=1)"
   ]
  },
  {
   "cell_type": "markdown",
   "id": "6ddfa444-01cb-4e45-8f63-5f540f8365c8",
   "metadata": {},
   "source": [
    "Du har nu indlæst hele historien om semiconductor i et NumPy-array kaldet `data`. Den første kolonne indeholder antallet af MOS-transistorer, og den anden kolonne indeholder introduktionsåret skrevet med fire cifre.\n",
    "\n",
    "3. Du skal gøre dataene lettere at læse og arbejde med ved at tildele de to kolonner til variablerne `year` og `transistor_count`. Udskriv de første 10 værdier ved at anvende slicing [:10] på year- og transistor_count-arrays.\n",
    "Udskriv derefter disse værdier for at tjekke, at du har gemt dataene i de rigtige variabler."
   ]
  },
  {
   "cell_type": "code",
   "execution_count": 32,
   "id": "73c94ec0-b238-423e-a896-da3fa63f305b",
   "metadata": {},
   "outputs": [],
   "source": [
    "year = data[:,1]\n",
    "year = year[~np.isnan(year)]\n",
    "transistor_count = data[:,0]\n",
    "transistor_count = transistor_count[~np.isnan(transistor_count)]"
   ]
  },
  {
   "cell_type": "markdown",
   "id": "8b89345f-753c-40f3-b269-076a2c86e28a",
   "metadata": {},
   "source": [
    "## Del 2: data analyse\n",
    "\n",
    "1. Brug `np.log` til at tage den naturlige logaritme af antal transistor der gemmes i `transistor_count`.\n",
    "2. Tegn et scatter-plot af årstal (x-akse) mod log-transistorantal (y-akse).\n",
    "3. Hvad ser du? Passer punkterne nogenlunde til en ret linje?"
   ]
  },
  {
   "cell_type": "code",
   "execution_count": 33,
   "id": "0cde06ba-9c7f-4b99-966d-a12eee99e203",
   "metadata": {},
   "outputs": [
    {
     "data": {
      "text/plain": [
       "<matplotlib.collections.PathCollection at 0x76da24c50410>"
      ]
     },
     "execution_count": 33,
     "metadata": {},
     "output_type": "execute_result"
    },
    {
     "data": {
      "image/png": "[encoded data removed]",
      "text/plain": [
       "<Figure size 640x480 with 1 Axes>"
      ]
     },
     "metadata": {},
     "output_type": "display_data"
    }
   ],
   "source": [
    "log_transistor_count = np.log(transistor_count)\n",
    "import matplotlib.pyplot as plt\n",
    "plt.scatter(year, log_transistor_count)"
   ]
  },
  {
   "cell_type": "code",
   "execution_count": 37,
   "id": "7c83e0d7-c20f-4a2e-8e8c-47d13e21da95",
   "metadata": {},
   "outputs": [
    {
     "name": "stdout",
     "output_type": "stream",
     "text": [
      "15.699940703939086\n"
     ]
    }
   ],
   "source": [
    "model = np.polynomial.Polynomial.fit(year, log_transistor_count, deg=1)\n",
    "A, B = model\n",
    "Moores_law = lambda year: np.exp(B_M)*np.exp(A_M*year)\n",
    "\n",
    "transistor_\n",
    "plt.plot"
   ]
  },
  {
   "cell_type": "markdown",
   "id": "5df1fcc7-ad62-4613-8825-7a287dba4cd3",
   "metadata": {},
   "source": [
    "## Del 3: Sammenlign med Moore’s law\n",
    "Din empiriske model antager, at antallet af transistorer pr. semiconductor følger en eksponentiel vækst,\n",
    "\n",
    "$$ transistor\\_count = a\\cdot b^{t-t_0}$$ \n",
    "\n",
    "hvor $a$ og  $b$ konstanter, der beskriver en fordobling af antal transistor hvert andet år, og hvor udgangspunktet er 2250 transistorer i 1971. Funktionen kan afbildes som en ret linje i et enkeltlogaritmisk koordinatsystem\n",
    "\n",
    "$$\\log(transister\\_count) = f(year) = A \\cdot year+B$$\n",
    "\n",
    "hvor $A$ and $B$ tilpasningskonstanter (fitting constants).\n"
   ]
  },
  {
   "cell_type": "markdown",
   "id": "3ccd2834-040d-49a2-b2c7-6fec924c5897",
   "metadata": {},
   "source": [
    "1. Compute $A$ and $B$ and make a function *Moores_law* using `lambda`, with *year* as input argument.\n",
    "2. Brug `np.polyfit` til at lave et lineært fit på log-data:\n",
    "3. Plot både de rigtige data (scatter) og regression modellen (kurve) i samme figur på log-skala\n",
    "4. Tegn også Moore’s kurve i grafen og sammenlign med dine data."
   ]
  },
  {
   "cell_type": "code",
   "execution_count": null,
   "id": "7dcb0906-dedd-4829-94a3-f44101ee5315",
   "metadata": {},
   "outputs": [],
   "source": []
  },
  {
   "cell_type": "code",
   "execution_count": null,
   "id": "c628792c-fbbb-4579-95a3-8173a24e850b",
   "metadata": {},
   "outputs": [],
   "source": []
  },
  {
   "cell_type": "markdown",
   "id": "dfe3a7fe-e90b-40ad-b0de-ef6c9171f4b0",
   "metadata": {},
   "source": [
    "\n",
    "\n"
   ]
  }
 ],
 "metadata": {
  "kernelspec": {
   "display_name": "Python 3 (ipykernel)",
   "language": "python",
   "name": "python3"
  },
  "language_info": {
   "codemirror_mode": {
    "name": "ipython",
    "version": 3
   },
   "file_extension": ".py",
   "mimetype": "text/x-python",
   "name": "python",
   "nbconvert_exporter": "python",
   "pygments_lexer": "ipython3",
   "version": "3.12.3"
  }
 },
 "nbformat": 4,
 "nbformat_minor": 5
}
